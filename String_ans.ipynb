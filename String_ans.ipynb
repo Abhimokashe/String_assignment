{
  "nbformat": 4,
  "nbformat_minor": 0,
  "metadata": {
    "colab": {
      "provenance": [],
      "toc_visible": true
    },
    "kernelspec": {
      "name": "python3",
      "display_name": "Python 3"
    },
    "language_info": {
      "name": "python"
    }
  },
  "cells": [
    {
      "cell_type": "markdown",
      "source": [
        "You are given a sentence which reads \"Wikipedia is a free online encyclopedia, created and edited by volunteers around the world and hosted by the Wikimedia Foundation.\"\n",
        "\n",
        "1.Find the number of words in the given sentence."
      ],
      "metadata": {
        "id": "OD19Ys-RrZHp"
      }
    },
    {
      "cell_type": "code",
      "source": [
        "# Store the given sentence in a variable\n",
        "sentence = \"Wikipedia is a free online encyclopedia, created and edited by volunteers around the world and hosted by the Wikimedia Foundation.\"\n",
        "l= sentence.split()\n",
        "number_of_words = len(l)\n",
        "print(number_of_words)"
      ],
      "metadata": {
        "colab": {
          "base_uri": "https://localhost:8080/"
        },
        "id": "1-LCwYa2rhQB",
        "outputId": "a3d17150-1014-434e-9926-822712cd5524"
      },
      "execution_count": null,
      "outputs": [
        {
          "output_type": "stream",
          "name": "stdout",
          "text": [
            "20\n"
          ]
        }
      ]
    },
    {
      "cell_type": "markdown",
      "source": [
        "\n",
        "Problem 2\n",
        "\n",
        "2.Write a Python code which takes a number and returns a corresponding string of hyphens. For example if the number is 3, it will return '---' , if the number is 5 it will return '-----'\n"
      ],
      "metadata": {
        "id": "NsTt-FjszPqP"
      }
    },
    {
      "cell_type": "code",
      "source": [
        "# Store the user input in a variable\n",
        "inputted_number = int(input())\n",
        "s = '-'\n",
        "number_of_hypens = inputted_number * s\n",
        "print(number_of_hypens)"
      ],
      "metadata": {
        "colab": {
          "base_uri": "https://localhost:8080/"
        },
        "id": "ll42UL63zFbI",
        "outputId": "7d472781-fcee-404c-bce2-602aeb8ecd29"
      },
      "execution_count": null,
      "outputs": [
        {
          "output_type": "stream",
          "name": "stdout",
          "text": [
            "5\n",
            "-----\n"
          ]
        }
      ]
    },
    {
      "cell_type": "markdown",
      "source": [
        "3.A string can be called a safe bridge if it has no gaps in it i.e, no spaces. You are supposed to take an input from the user and print whether the string is a safe bridge or not."
      ],
      "metadata": {
        "id": "6IpWtEI12eQ-"
      }
    },
    {
      "cell_type": "code",
      "source": [
        "# Store the user input in a variable\n",
        "bridge = input()\n",
        "m = bridge.isspace()\n",
        "print(m)\n",
        "\n",
        "# Return True if the bridge is safe and False if the bridge is not safe. Hint : Use the find() method\n",
        "if m is False:\n",
        "  print('bridge is not safe')\n",
        "else:\n",
        "  print(\"bridge is safe\")\n"
      ],
      "metadata": {
        "colab": {
          "base_uri": "https://localhost:8080/"
        },
        "id": "Me-QeCEM2gUX",
        "outputId": "4352b239-1748-437c-d773-63da76f79a38"
      },
      "execution_count": null,
      "outputs": [
        {
          "output_type": "stream",
          "name": "stdout",
          "text": [
            "mn b\n",
            "False\n",
            "bridge is not safe\n"
          ]
        }
      ]
    },
    {
      "cell_type": "markdown",
      "source": [
        "\n",
        "Problem 4\n",
        "\n",
        "Count the number of D's in a string inputted by the user. This will be case insensitive"
      ],
      "metadata": {
        "id": "7H-i11aX90TX"
      }
    },
    {
      "cell_type": "code",
      "source": [
        "# Store the user input in a variable\n",
        "user_string = 'Debris was scattered all over the yard in the densest region of Denmark'\n",
        "case_insen = user_string.upper()\n",
        "D_counts = case_insen.count('D')\n",
        "\n",
        "# Fill in the blanks\n",
        "print(\"The total occurrence of D in the user_string is {}\".format(D_counts))"
      ],
      "metadata": {
        "colab": {
          "base_uri": "https://localhost:8080/"
        },
        "id": "iSnaA8Z_AIq8",
        "outputId": "77908968-497e-4414-b4fa-231098980785"
      },
      "execution_count": null,
      "outputs": [
        {
          "output_type": "stream",
          "name": "stdout",
          "text": [
            "The total occurrence of D in the user_string is 5\n"
          ]
        }
      ]
    },
    {
      "cell_type": "code",
      "source": [
        "user_string = 'Debris was scattered all over the yard in the densest region of Denmark'\n",
        "d= {}\n",
        "for x in user_string:\n",
        "  if x in d.keys():\n",
        "    d[x] = d[x]+1\n",
        "  else:\n",
        "    d[x] = 1\n",
        "for k,v in d.items():\n",
        "  print('{} = {} times'.format(k,v))\n",
        "\n"
      ],
      "metadata": {
        "colab": {
          "base_uri": "https://localhost:8080/"
        },
        "id": "3FugFQj0C98c",
        "outputId": "ccdde106-7b36-4af1-ef96-f0f570c16923"
      },
      "execution_count": null,
      "outputs": [
        {
          "output_type": "stream",
          "name": "stdout",
          "text": [
            "D = 2 times\n",
            "e = 10 times\n",
            "b = 1 times\n",
            "r = 6 times\n",
            "i = 3 times\n",
            "s = 5 times\n",
            "  = 12 times\n",
            "w = 1 times\n",
            "a = 5 times\n",
            "c = 1 times\n",
            "t = 5 times\n",
            "d = 3 times\n",
            "l = 2 times\n",
            "o = 3 times\n",
            "v = 1 times\n",
            "h = 2 times\n",
            "y = 1 times\n",
            "n = 4 times\n",
            "g = 1 times\n",
            "f = 1 times\n",
            "m = 1 times\n",
            "k = 1 times\n"
          ]
        }
      ]
    },
    {
      "cell_type": "markdown",
      "source": [
        "# PROBLEM 5\n",
        "Check whether a given string is a palindrome. A palindrome is a word, number, phrase, or other sequence of characters which reads the same backward as forward, such as madam, racecar."
      ],
      "metadata": {
        "id": "lXGNs4l8B3b1"
      }
    },
    {
      "cell_type": "code",
      "source": [
        "# Store the user input in a variable\n",
        "user_string1 = input()\n",
        "reverse = user_string1[::-1]\n",
        "if (user_string1 == reverse):\n",
        "  print('It is palindrome')\n",
        "else:\n",
        "  print('It is not palindrome')"
      ],
      "metadata": {
        "colab": {
          "base_uri": "https://localhost:8080/"
        },
        "id": "LiLeE7HKB9HE",
        "outputId": "88dcf265-76cb-40ab-bbe3-b0ec59381381"
      },
      "execution_count": null,
      "outputs": [
        {
          "output_type": "stream",
          "name": "stdout",
          "text": [
            "nmbm\n",
            "It is not palindrome\n"
          ]
        }
      ]
    }
  ]
}